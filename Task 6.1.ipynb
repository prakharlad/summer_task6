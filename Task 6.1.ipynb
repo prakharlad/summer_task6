{
 "cells": [
  {
   "cell_type": "code",
   "execution_count": 1,
   "id": "d6eb15e7",
   "metadata": {},
   "outputs": [],
   "source": [
    "import cv2\n",
    "import pywhatkit as kit\n",
    "import subprocess as sp\n",
    "import smtplib, ssl\n",
    "import getpass"
   ]
  },
  {
   "cell_type": "code",
   "execution_count": 2,
   "id": "b4ffc564",
   "metadata": {},
   "outputs": [],
   "source": [
    "face_cascade = cv2.CascadeClassifier('lbpcascade_frontalface_improved.xml')"
   ]
  },
  {
   "cell_type": "code",
   "execution_count": 3,
   "id": "f04375d4",
   "metadata": {},
   "outputs": [],
   "source": [
    "def whatsapp():\n",
    "    mobile_no = getpass.getpass(prompt=\"Enter Mobile No: \", stream=None)\n",
    "    kit.sendwhatmsg_instantly(mobile_no, 'Face detected successfully!!! This is a test message.', 15, tab_close=True)"
   ]
  },
  {
   "cell_type": "code",
   "execution_count": 4,
   "id": "3c3e381f",
   "metadata": {},
   "outputs": [],
   "source": [
    "def mail():\n",
    "    SSL_port = 465\n",
    "    smtp_server_address = \"smtp.gmail.com\"\n",
    "    my_id = \"22prakharlad@gmail.com\"\n",
    "    receiver_id = \"prakharlad22@gmail.com\"\n",
    "    email_pass = getpass.getpass(prompt=\"Type your password and press enter: \", stream=None)      \n",
    "    msg = \"Program works\"\n",
    "            \n",
    "    context = ssl.create_default_context()\n",
    "    with smtplib.SMTP_SSL(smtp_server_address, SSL_port, context = context) as host:\n",
    "        host.login(my_id, email_pass)\n",
    "        host.sendmail(my_id, receiver_id, msg)"
   ]
  },
  {
   "cell_type": "code",
   "execution_count": 5,
   "id": "a4da028f",
   "metadata": {},
   "outputs": [
    {
     "name": "stdout",
     "output_type": "stream",
     "text": [
      "Enter Mobile No: ········\n",
      "Whatsapp Message sent successfully!\n",
      "Type your password and press enter: ········\n",
      "Mail sent successfully!\n"
     ]
    }
   ],
   "source": [
    "cap = cv2.VideoCapture(0)\n",
    "\n",
    "while cap.isOpened():\n",
    "    ret, frame = cap.read()\n",
    "    \n",
    "    gray = cv2.cvtColor(frame, cv2.COLOR_BGR2GRAY)\n",
    "    \n",
    "    faces = face_cascade.detectMultiScale(gray, 1.3 , 4)\n",
    "    \n",
    "    for (x,y,w,h) in faces:\n",
    "        \n",
    "        cv2.rectangle(frame, (x,y), (x+w, y+h), (255,0,0), 3)\n",
    "\n",
    "        \n",
    "    cv2.imshow('Image', frame)\n",
    "    \n",
    "    if cv2.waitKey(1) == 13:\n",
    "        whatsapp()\n",
    "        print(\"Whatsapp Message sent successfully!\")\n",
    "        mail()\n",
    "        print(\"Mail sent successfully!\")\n",
    "        break\n",
    "        \n",
    "cap.release()\n",
    "\n",
    "cv2.destroyAllWindows()"
   ]
  },
  {
   "cell_type": "code",
   "execution_count": null,
   "id": "b8d52fa7",
   "metadata": {},
   "outputs": [],
   "source": []
  },
  {
   "cell_type": "code",
   "execution_count": null,
   "id": "7f342c1e",
   "metadata": {},
   "outputs": [],
   "source": []
  },
  {
   "cell_type": "code",
   "execution_count": null,
   "id": "acd4d979",
   "metadata": {},
   "outputs": [],
   "source": []
  }
 ],
 "metadata": {
  "kernelspec": {
   "display_name": "Python 3",
   "language": "python",
   "name": "python3"
  },
  "language_info": {
   "codemirror_mode": {
    "name": "ipython",
    "version": 3
   },
   "file_extension": ".py",
   "mimetype": "text/x-python",
   "name": "python",
   "nbconvert_exporter": "python",
   "pygments_lexer": "ipython3",
   "version": "3.8.8"
  }
 },
 "nbformat": 4,
 "nbformat_minor": 5
}
